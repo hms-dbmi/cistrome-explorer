{
 "cells": [
  {
   "cell_type": "code",
   "execution_count": null,
   "metadata": {},
   "outputs": [],
   "source": [
    "import h5py\n",
    "import pandas as pd\n",
    "import numpy as np\n",
    "import json\n",
    "import os\n",
    "from os.path import join\n",
    "import tempfile\n",
    "import negspy.coordinates as nc"
   ]
  },
  {
   "cell_type": "code",
   "execution_count": null,
   "metadata": {},
   "outputs": [],
   "source": [
    "f = h5py.File(\"../data_processing_20200429/my_file_genome_wide_20180228.multires.mv5\", \"r\")"
   ]
  },
  {
   "cell_type": "code",
   "execution_count": null,
   "metadata": {},
   "outputs": [],
   "source": [
    "def descend_obj(obj,sep='\\t'):\n",
    "    \"\"\"\n",
    "    Iterate through groups in a HDF5 file and prints the groups and datasets names and datasets attributes\n",
    "    \"\"\"\n",
    "    if type(obj) in [h5py._hl.group.Group,h5py._hl.files.File]:\n",
    "        for key in obj.keys():\n",
    "            print(sep,'-',key,':',obj[key])\n",
    "            descend_obj(obj[key],sep=sep+'\\t')\n",
    "    elif type(obj)==h5py._hl.dataset.Dataset:\n",
    "        for key in obj.attrs.keys():\n",
    "            print(sep+'\\t','-',key,':',obj.attrs[key])"
   ]
  },
  {
   "cell_type": "code",
   "execution_count": null,
   "metadata": {},
   "outputs": [],
   "source": [
    "descend_obj(f)"
   ]
  },
  {
   "cell_type": "code",
   "execution_count": null,
   "metadata": {},
   "outputs": [],
   "source": [
    "type(f)"
   ]
  },
  {
   "cell_type": "code",
   "execution_count": null,
   "metadata": {},
   "outputs": [],
   "source": [
    "def create_multivec_file():\n",
    "    tf = tempfile.TemporaryFile()\n",
    "    f = h5py.File(tf, 'w')\n",
    "    \n",
    "    # Create level zero groups\n",
    "    info_group = f.create_group(\"info\")\n",
    "    resolutions_group = f.create_group(\"resolutions\")\n",
    "    \n",
    "    # Prepare to fill in chroms dataset\n",
    "    chromosomes = nc.get_chromorder('hg38')\n",
    "    num_chromosomes = len(chromosomes)\n",
    "    chroms_length_arr = np.array([ nc.get_chrominfo('hg38').chrom_lengths[x] for x in chromosomes ], dtype=\"i8\")\n",
    "    chroms_name_arr = np.array(chromosomes, dtype=\"S23\")\n",
    "    \n",
    "    def create_chroms_group(d):\n",
    "        chroms_group = d.create_group(\"chroms\")\n",
    "        # Fill in chroms dataset entries \"length\" and \"name\"\n",
    "        chroms_group.create_dataset(\"length\", data=chroms_length_arr)\n",
    "        chroms_group.create_dataset(\"name\", data=chroms_name_arr)\n",
    "    \n",
    "    create_chroms_group(f)\n",
    "    \n",
    "    # Prepare to fill in resolutions dataset\n",
    "    resolutions = [ str(1000*(2**x)) for x in range(15)]\n",
    "    print(resolutions)\n",
    "    \n",
    "    # Fill in resolutions dataset entries\n",
    "    for resolution in resolutions:\n",
    "        # Create each resolution group\n",
    "        resolution_group = resolutions_group.create_group(resolution)\n",
    "        \n",
    "        create_chroms_group(resolution_group)\n",
    "        resolution_values_group = resolution_group.create_group(\"values\")\n",
    "        \n",
    "        for chromosome in chromosomes:\n",
    "            # TODO: fill in the chromosome values\n",
    "            chrom_dataset = resolution_group.create_dataset(chromosome, (1, 1), dtype=\"f4\")\n",
    "        \n",
    "    return f\n",
    "    "
   ]
  },
  {
   "cell_type": "code",
   "execution_count": null,
   "metadata": {},
   "outputs": [],
   "source": [
    "len(nc.get_chromorder('hg38'))"
   ]
  },
  {
   "cell_type": "code",
   "execution_count": null,
   "metadata": {},
   "outputs": [],
   "source": [
    "nc.get_chrominfo('hg38').chrom_lengths[\"chr2\"]"
   ]
  },
  {
   "cell_type": "code",
   "execution_count": null,
   "metadata": {},
   "outputs": [],
   "source": [
    "descend_obj(create_multivec_file())"
   ]
  },
  {
   "cell_type": "code",
   "execution_count": null,
   "metadata": {},
   "outputs": [],
   "source": []
  },
  {
   "cell_type": "code",
   "execution_count": null,
   "metadata": {},
   "outputs": [],
   "source": []
  }
 ],
 "metadata": {
  "kernelspec": {
   "display_name": "Python [conda env:cistrome-explorer-notebooks] *",
   "language": "python",
   "name": "conda-env-cistrome-explorer-notebooks-py"
  },
  "language_info": {
   "codemirror_mode": {
    "name": "ipython",
    "version": 3
   },
   "file_extension": ".py",
   "mimetype": "text/x-python",
   "name": "python",
   "nbconvert_exporter": "python",
   "pygments_lexer": "ipython3",
   "version": "3.7.6"
  }
 },
 "nbformat": 4,
 "nbformat_minor": 4
}
