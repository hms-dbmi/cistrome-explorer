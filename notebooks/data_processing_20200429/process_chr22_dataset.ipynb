{
 "cells": [
  {
   "cell_type": "code",
   "execution_count": null,
   "metadata": {},
   "outputs": [],
   "source": [
    "import h5py\n",
    "import pandas as pd\n",
    "import numpy as np\n",
    "import json\n",
    "import os\n",
    "from os.path import join"
   ]
  },
  {
   "cell_type": "code",
   "execution_count": null,
   "metadata": {},
   "outputs": [],
   "source": [
    "f = h5py.File(\"Cistrome_DNase_1kb_average.multires.mv5\")\n",
    "good_f = h5py.File(\"my_file_genome_wide_20180228.multires.mv5\", \"r\")"
   ]
  },
  {
   "cell_type": "code",
   "execution_count": null,
   "metadata": {},
   "outputs": [],
   "source": [
    "def descend_obj(obj,sep='\\t'):\n",
    "    \"\"\"\n",
    "    Iterate through groups in a HDF5 file and prints the groups and datasets names and datasets attributes\n",
    "    \"\"\"\n",
    "    if type(obj) in [h5py._hl.group.Group,h5py._hl.files.File]:\n",
    "        for key in obj.keys():\n",
    "            print(sep,'-',key,':',obj[key])\n",
    "            descend_obj(obj[key],sep=sep+'\\t')\n",
    "    elif type(obj)==h5py._hl.dataset.Dataset:\n",
    "        for key in obj.attrs.keys():\n",
    "            print(sep+'\\t','-',key,':',obj.attrs[key])"
   ]
  },
  {
   "cell_type": "code",
   "execution_count": null,
   "metadata": {},
   "outputs": [],
   "source": [
    "descend_obj(f)"
   ]
  },
  {
   "cell_type": "code",
   "execution_count": null,
   "metadata": {},
   "outputs": [],
   "source": [
    "def tileset_info(f):\n",
    "    \"\"\"\n",
    "    Return some information about this tileset that will\n",
    "    help render it in on the client.\n",
    "    Parameters\n",
    "    ----------\n",
    "    filename: str\n",
    "      The filename of the h5py file containing the tileset info.\n",
    "    Returns\n",
    "    -------\n",
    "    tileset_info: {}\n",
    "      A dictionary containing the information describing\n",
    "      this dataset\n",
    "    \"\"\"\n",
    "    # t1 = time.time()\n",
    "    #f = h5py.File(filename, \"r\")\n",
    "    # t2 = time.time()\n",
    "    # a sorted list of resolutions, lowest to highest\n",
    "    # awkward to write because a the numbers representing resolution\n",
    "    # are datapoints / pixel so lower resolution is actually a higher\n",
    "    # number\n",
    "    resolutions = sorted([int(r) for r in f[\"resolutions\"].keys()])[::-1]\n",
    "\n",
    "    # the \"leftmost\" datapoint position\n",
    "    # an array because higlass can display multi-dimensional\n",
    "    # data\n",
    "    min_pos = [0]\n",
    "    max_pos = [int(sum(f[\"chroms\"][\"length\"][:]))]\n",
    "\n",
    "    # the \"rightmost\" datapoint position\n",
    "    # max_pos = [len(f['resolutions']['values'][str(resolutions[-1])])]\n",
    "    tile_size = int(f[\"info\"].attrs[\"tile-size\"])\n",
    "    first_chrom = f[\"chroms\"][\"name\"][0]\n",
    "\n",
    "    shape = list(f[\"resolutions\"][str(resolutions[0])][\"values\"][first_chrom].shape)\n",
    "    shape[0] = tile_size\n",
    "\n",
    "    # t3 = time.time()\n",
    "    # print(\"tileset info time:\", t3 - t2)\n",
    "\n",
    "    tileset_info = {\n",
    "        \"resolutions\": resolutions,\n",
    "        \"min_pos\": min_pos,\n",
    "        \"max_pos\": max_pos,\n",
    "        \"tile_size\": tile_size,\n",
    "        \"shape\": shape,\n",
    "    }\n",
    "\n",
    "    if \"row_infos\" in f[\"resolutions\"][str(resolutions[0])].attrs:\n",
    "        row_infos = f[\"resolutions\"][str(resolutions[0])].attrs[\"row_infos\"]\n",
    "        tileset_info[\"row_infos\"] = [r.decode(\"utf8\") for r in row_infos]\n",
    "\n",
    "    return tileset_info"
   ]
  },
  {
   "cell_type": "code",
   "execution_count": null,
   "metadata": {},
   "outputs": [],
   "source": [
    "tileset_info(good_f)"
   ]
  },
  {
   "cell_type": "code",
   "execution_count": null,
   "metadata": {},
   "outputs": [],
   "source": [
    "chrom_0_to_22_names = good_f[\"chroms\"][\"name\"][0:22]\n",
    "chrom_0_to_22_lengths = good_f[\"chroms\"][\"length\"][0:22]"
   ]
  },
  {
   "cell_type": "code",
   "execution_count": null,
   "metadata": {},
   "outputs": [],
   "source": [
    "try:\n",
    "    del f[\"chroms\"][\"name\"]\n",
    "except:\n",
    "    pass\n",
    "try:\n",
    "    del f[\"chroms\"][\"length\"]\n",
    "except:\n",
    "    pass\n",
    "f[\"chroms\"].create_dataset(\"name\", data=chrom_0_to_22_names, dtype='S23')\n",
    "f[\"chroms\"].create_dataset(\"length\", data=chrom_0_to_22_lengths, dtype='int64')\n",
    "\n"
   ]
  },
  {
   "cell_type": "code",
   "execution_count": null,
   "metadata": {},
   "outputs": [],
   "source": [
    "f_resolutions = list(f[\"resolutions\"].keys())\n",
    "f_resolutions"
   ]
  },
  {
   "cell_type": "code",
   "execution_count": null,
   "metadata": {},
   "outputs": [],
   "source": [
    "f[\"resolutions\"]['1000'][\"values\"][\"chr22\"][()].sum()"
   ]
  },
  {
   "cell_type": "code",
   "execution_count": null,
   "metadata": {},
   "outputs": [],
   "source": [
    "for r in f_resolutions:\n",
    "    try:\n",
    "        del f[\"resolutions\"][r][\"chroms\"][\"name\"]\n",
    "    except:\n",
    "        pass\n",
    "    try:\n",
    "        del f[\"resolutions\"][r][\"chroms\"][\"length\"]\n",
    "    except:\n",
    "        pass\n",
    "    f[\"resolutions\"][r][\"chroms\"].create_dataset(\"name\", data=chrom_0_to_22_names, dtype='S23')\n",
    "    f[\"resolutions\"][r][\"chroms\"].create_dataset(\"length\", data=chrom_0_to_22_lengths, dtype='int64')"
   ]
  },
  {
   "cell_type": "code",
   "execution_count": null,
   "metadata": {},
   "outputs": [],
   "source": [
    "for r in f_resolutions:\n",
    "    for chr_name in chrom_0_to_22_names[:-1]:\n",
    "        res_chr_width = good_f[\"resolutions\"][r][\"values\"][chr_name].shape[0]\n",
    "        res_chr_height = f[\"resolutions\"][r][\"values\"][\"chr22\"].shape[1]\n",
    "        try:\n",
    "            del f[\"resolutions\"][r][\"values\"][chr_name]\n",
    "        except:\n",
    "            pass\n",
    "        f[\"resolutions\"][r][\"values\"].create_dataset(chr_name, data=np.zeros((res_chr_width, res_chr_height), dtype='<f4'))"
   ]
  },
  {
   "cell_type": "code",
   "execution_count": null,
   "metadata": {},
   "outputs": [],
   "source": [
    "f[\"resolutions\"]['1000'][\"values\"][\"chr22\"][()].sum()"
   ]
  },
  {
   "cell_type": "code",
   "execution_count": null,
   "metadata": {},
   "outputs": [],
   "source": [
    "row_infos = f[\"resolutions\"][\"16384000\"].attrs[\"row_infos\"]\n",
    "row_infos"
   ]
  },
  {
   "cell_type": "code",
   "execution_count": null,
   "metadata": {},
   "outputs": [],
   "source": [
    "row_infos_objs = [ str(json.dumps({ \"Cluster\": r.decode('utf-8').split('\\t')[0], \"Cell Type\": r.decode('utf-8').split('\\t')[1] })).encode() for r in row_infos ]"
   ]
  },
  {
   "cell_type": "code",
   "execution_count": null,
   "metadata": {},
   "outputs": [],
   "source": [
    "f[\"resolutions\"][\"16384000\"].attrs[\"row_infos\"] = row_infos_objs"
   ]
  },
  {
   "cell_type": "code",
   "execution_count": null,
   "metadata": {},
   "outputs": [],
   "source": [
    "tileset_info(f)"
   ]
  },
  {
   "cell_type": "code",
   "execution_count": null,
   "metadata": {},
   "outputs": [],
   "source": [
    "f.close()"
   ]
  },
  {
   "cell_type": "code",
   "execution_count": null,
   "metadata": {},
   "outputs": [],
   "source": []
  }
 ],
 "metadata": {
  "kernelspec": {
   "display_name": "Python 3",
   "language": "python",
   "name": "python3"
  },
  "language_info": {
   "codemirror_mode": {
    "name": "ipython",
    "version": 3
   },
   "file_extension": ".py",
   "mimetype": "text/x-python",
   "name": "python",
   "nbconvert_exporter": "python",
   "pygments_lexer": "ipython3",
   "version": "3.7.4"
  }
 },
 "nbformat": 4,
 "nbformat_minor": 2
}
