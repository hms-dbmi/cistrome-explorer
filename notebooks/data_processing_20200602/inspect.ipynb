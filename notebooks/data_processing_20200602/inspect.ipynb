{
 "cells": [
  {
   "cell_type": "code",
   "execution_count": 4,
   "metadata": {},
   "outputs": [],
   "source": [
    "import h5py\n",
    "import json\n",
    "from os.path import join"
   ]
  },
  {
   "cell_type": "code",
   "execution_count": 5,
   "metadata": {},
   "outputs": [],
   "source": [
    "f = h5py.File(join(\"data\", \"processed\", \"Homo_sapiens__HNF4A__cl__Caco-2.multires.mv5\"), \"r\")"
   ]
  },
  {
   "cell_type": "code",
   "execution_count": 6,
   "metadata": {},
   "outputs": [
    {
     "data": {
      "text/plain": [
       "<KeysViewHDF5 ['chroms', 'info', 'resolutions']>"
      ]
     },
     "execution_count": 6,
     "metadata": {},
     "output_type": "execute_result"
    }
   ],
   "source": [
    "f.keys()"
   ]
  },
  {
   "cell_type": "code",
   "execution_count": 7,
   "metadata": {},
   "outputs": [
    {
     "data": {
      "text/plain": [
       "{'id': '372',\n",
       " 'status': 'completed',\n",
       " 'treats__0__cell_line__name': 'Caco-2',\n",
       " 'treats__0__cell_type__name': 'Epithelium',\n",
       " 'treats__0__cell_pop__name': None,\n",
       " 'treats__0__disease_state__name': 'Colorectal Adenocarcinoma',\n",
       " 'treats__0__factor__name': 'HNF4A',\n",
       " 'treats__0__is_correcting': False,\n",
       " 'treats__0__link': 'http://www.ncbi.nlm.nih.gov/geo/query/acc.cgi?acc=GSM575228',\n",
       " 'treats__0__name': 'HNF4A ChIP-seq in proliferating cells',\n",
       " 'treats__0__paper__journal__name': 'Dev. Cell',\n",
       " 'treats__0__paper__lab': 'Shivdasani RA',\n",
       " 'treats__0__paper__pmid': 21074721,\n",
       " 'treats__0__paper__reference': 'Verzi MP, et al. Differentiation-specific histone modifications reveal dynamic chromatin interactions and partners for the intestinal transcription factor CDX2. Dev. Cell 2010',\n",
       " 'treats__0__species__name': 'Homo sapiens',\n",
       " 'treats__0__strain__name': None,\n",
       " 'treats__0__tissue_type__name': 'Colon',\n",
       " 'treats__0__unique_id': 'GSM575228',\n",
       " 'qc__judge__map': True,\n",
       " 'qc__judge__peaks': True,\n",
       " 'qc__judge__fastqc': True,\n",
       " 'qc__judge__frip': True,\n",
       " 'qc__judge__pbc': True,\n",
       " 'qc__judge__motif': False,\n",
       " 'qc__judge__dhs': True,\n",
       " 'qc__table__treat_number': 1,\n",
       " 'qc__table__control_number': 0,\n",
       " 'qc__table__map__0': 73.5,\n",
       " 'qc__table__fastqc__0': 37,\n",
       " 'qc__table__frip__0': 5.9,\n",
       " 'qc__table__map_number__0': 9164415,\n",
       " 'qc__table__pbc__0': 89.0,\n",
       " 'qc__table__motif': False,\n",
       " 'qc__table__dhs': 94.1,\n",
       " 'qc__table__raw_number__0': 12465783,\n",
       " 'qc__table__meta_orig__intron': 0.3902926389067939,\n",
       " 'qc__table__meta_orig__inter': 0.44598427227020754,\n",
       " 'qc__table__meta_orig__exon': 0.0549181384555885,\n",
       " 'qc__table__meta_orig__promoter': 0.10880495036741009}"
      ]
     },
     "execution_count": 7,
     "metadata": {},
     "output_type": "execute_result"
    }
   ],
   "source": [
    "json.loads(f[\"resolutions\"][\"16384000\"].attrs[\"row_infos\"][0])"
   ]
  },
  {
   "cell_type": "code",
   "execution_count": 8,
   "metadata": {},
   "outputs": [],
   "source": [
    "def tileset_info(f):\n",
    "    \"\"\"\n",
    "    Return some information about this tileset that will\n",
    "    help render it in on the client.\n",
    "    Parameters\n",
    "    ----------\n",
    "    filename: str\n",
    "      The filename of the h5py file containing the tileset info.\n",
    "    Returns\n",
    "    -------\n",
    "    tileset_info: {}\n",
    "      A dictionary containing the information describing\n",
    "      this dataset\n",
    "    \"\"\"\n",
    "    # t1 = time.time()\n",
    "    #f = h5py.File(filename, \"r\")\n",
    "    # t2 = time.time()\n",
    "    # a sorted list of resolutions, lowest to highest\n",
    "    # awkward to write because a the numbers representing resolution\n",
    "    # are datapoints / pixel so lower resolution is actually a higher\n",
    "    # number\n",
    "    resolutions = sorted([int(r) for r in f[\"resolutions\"].keys()])[::-1]\n",
    "\n",
    "    # the \"leftmost\" datapoint position\n",
    "    # an array because higlass can display multi-dimensional\n",
    "    # data\n",
    "    min_pos = [0]\n",
    "    max_pos = [int(sum(f[\"chroms\"][\"length\"][:]))]\n",
    "\n",
    "    # the \"rightmost\" datapoint position\n",
    "    # max_pos = [len(f['resolutions']['values'][str(resolutions[-1])])]\n",
    "    tile_size = int(f[\"info\"].attrs[\"tile-size\"])\n",
    "    first_chrom = f[\"chroms\"][\"name\"][0]\n",
    "\n",
    "    shape = list(f[\"resolutions\"][str(resolutions[0])][\"values\"][first_chrom].shape)\n",
    "    shape[0] = tile_size\n",
    "\n",
    "    # t3 = time.time()\n",
    "    # print(\"tileset info time:\", t3 - t2)\n",
    "\n",
    "    tileset_info = {\n",
    "        \"resolutions\": resolutions,\n",
    "        \"min_pos\": min_pos,\n",
    "        \"max_pos\": max_pos,\n",
    "        \"tile_size\": tile_size,\n",
    "        \"shape\": shape,\n",
    "    }\n",
    "\n",
    "    if \"row_infos\" in f[\"resolutions\"][str(resolutions[0])].attrs:\n",
    "        row_infos = f[\"resolutions\"][str(resolutions[0])].attrs[\"row_infos\"]\n",
    "        tileset_info[\"row_infos\"] = [r.decode(\"utf8\") for r in row_infos]\n",
    "\n",
    "    return tileset_info"
   ]
  },
  {
   "cell_type": "code",
   "execution_count": 9,
   "metadata": {},
   "outputs": [
    {
     "data": {
      "text/plain": [
       "{'resolutions': [16384000,\n",
       "  8192000,\n",
       "  4096000,\n",
       "  2048000,\n",
       "  1024000,\n",
       "  512000,\n",
       "  256000,\n",
       "  128000,\n",
       "  64000,\n",
       "  32000,\n",
       "  16000,\n",
       "  8000,\n",
       "  4000,\n",
       "  2000,\n",
       "  1000],\n",
       " 'min_pos': [0],\n",
       " 'max_pos': [3209286105],\n",
       " 'tile_size': 256,\n",
       " 'shape': [256, 2],\n",
       " 'row_infos': ['{\"id\": \"372\", \"status\": \"completed\", \"treats__0__cell_line__name\": \"Caco-2\", \"treats__0__cell_type__name\": \"Epithelium\", \"treats__0__cell_pop__name\": null, \"treats__0__disease_state__name\": \"Colorectal Adenocarcinoma\", \"treats__0__factor__name\": \"HNF4A\", \"treats__0__is_correcting\": false, \"treats__0__link\": \"http://www.ncbi.nlm.nih.gov/geo/query/acc.cgi?acc=GSM575228\", \"treats__0__name\": \"HNF4A ChIP-seq in proliferating cells\", \"treats__0__paper__journal__name\": \"Dev. Cell\", \"treats__0__paper__lab\": \"Shivdasani RA\", \"treats__0__paper__pmid\": 21074721, \"treats__0__paper__reference\": \"Verzi MP, et al. Differentiation-specific histone modifications reveal dynamic chromatin interactions and partners for the intestinal transcription factor CDX2. Dev. Cell 2010\", \"treats__0__species__name\": \"Homo sapiens\", \"treats__0__strain__name\": null, \"treats__0__tissue_type__name\": \"Colon\", \"treats__0__unique_id\": \"GSM575228\", \"qc__judge__map\": true, \"qc__judge__peaks\": true, \"qc__judge__fastqc\": true, \"qc__judge__frip\": true, \"qc__judge__pbc\": true, \"qc__judge__motif\": false, \"qc__judge__dhs\": true, \"qc__table__treat_number\": 1, \"qc__table__control_number\": 0, \"qc__table__map__0\": 73.5, \"qc__table__fastqc__0\": 37, \"qc__table__frip__0\": 5.9, \"qc__table__map_number__0\": 9164415, \"qc__table__pbc__0\": 89.0, \"qc__table__motif\": false, \"qc__table__dhs\": 94.1, \"qc__table__raw_number__0\": 12465783, \"qc__table__meta_orig__intron\": 0.3902926389067939, \"qc__table__meta_orig__inter\": 0.44598427227020754, \"qc__table__meta_orig__exon\": 0.0549181384555885, \"qc__table__meta_orig__promoter\": 0.10880495036741009}',\n",
       "  '{\"id\": \"371\", \"status\": \"completed\", \"treats__0__cell_line__name\": \"Caco-2\", \"treats__0__cell_type__name\": \"Epithelium\", \"treats__0__cell_pop__name\": null, \"treats__0__disease_state__name\": \"Colorectal Adenocarcinoma\", \"treats__0__factor__name\": \"HNF4A\", \"treats__0__is_correcting\": false, \"treats__0__link\": \"http://www.ncbi.nlm.nih.gov/geo/query/acc.cgi?acc=GSM575229\", \"treats__0__name\": \"HNF4A ChIP-seq in differentiated cells\", \"treats__0__paper__journal__name\": \"Dev. Cell\", \"treats__0__paper__lab\": \"Shivdasani RA\", \"treats__0__paper__pmid\": 21074721, \"treats__0__paper__reference\": \"Verzi MP, et al. Differentiation-specific histone modifications reveal dynamic chromatin interactions and partners for the intestinal transcription factor CDX2. Dev. Cell 2010\", \"treats__0__species__name\": \"Homo sapiens\", \"treats__0__strain__name\": null, \"treats__0__tissue_type__name\": \"Colon\", \"treats__0__unique_id\": \"GSM575229\", \"qc__judge__map\": true, \"qc__judge__peaks\": true, \"qc__judge__fastqc\": true, \"qc__judge__frip\": true, \"qc__judge__pbc\": true, \"qc__judge__motif\": false, \"qc__judge__dhs\": true, \"qc__table__treat_number\": 1, \"qc__table__control_number\": 0, \"qc__table__map__0\": 81.3, \"qc__table__fastqc__0\": 37, \"qc__table__frip__0\": 16.1, \"qc__table__map_number__0\": 10761991, \"qc__table__pbc__0\": 92.2, \"qc__table__motif\": false, \"qc__table__dhs\": 92.6, \"qc__table__raw_number__0\": 13233488, \"qc__table__meta_orig__intron\": 0.38632742603622816, \"qc__table__meta_orig__inter\": 0.45883275731058654, \"qc__table__meta_orig__exon\": 0.055200137264994974, \"qc__table__meta_orig__promoter\": 0.09963967938819031}']}"
      ]
     },
     "execution_count": 9,
     "metadata": {},
     "output_type": "execute_result"
    }
   ],
   "source": [
    "tileset_info(f)"
   ]
  },
  {
   "cell_type": "code",
   "execution_count": null,
   "metadata": {},
   "outputs": [],
   "source": []
  }
 ],
 "metadata": {
  "kernelspec": {
   "display_name": "Python [conda env:cistrome-explorer-notebooks] *",
   "language": "python",
   "name": "conda-env-cistrome-explorer-notebooks-py"
  },
  "language_info": {
   "codemirror_mode": {
    "name": "ipython",
    "version": 3
   },
   "file_extension": ".py",
   "mimetype": "text/x-python",
   "name": "python",
   "nbconvert_exporter": "python",
   "pygments_lexer": "ipython3",
   "version": "3.7.6"
  }
 },
 "nbformat": 4,
 "nbformat_minor": 4
}
