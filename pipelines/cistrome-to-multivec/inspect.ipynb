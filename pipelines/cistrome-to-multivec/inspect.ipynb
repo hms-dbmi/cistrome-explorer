{
 "cells": [
  {
   "cell_type": "code",
   "execution_count": 13,
   "metadata": {},
   "outputs": [],
   "source": [
    "import h5py\n",
    "import json\n",
    "from os.path import join"
   ]
  },
  {
   "cell_type": "code",
   "execution_count": 14,
   "metadata": {},
   "outputs": [],
   "source": [
    "f = h5py.File(join(\"data\", \"processed\", \"test.multires.mv5\"), \"r\")"
   ]
  },
  {
   "cell_type": "code",
   "execution_count": 15,
   "metadata": {},
   "outputs": [
    {
     "data": {
      "text/plain": [
       "<KeysViewHDF5 ['chroms', 'info', 'resolutions']>"
      ]
     },
     "execution_count": 15,
     "metadata": {},
     "output_type": "execute_result"
    }
   ],
   "source": [
    "f.keys()"
   ]
  },
  {
   "cell_type": "code",
   "execution_count": 16,
   "metadata": {},
   "outputs": [
    {
     "data": {
      "text/plain": [
       "{'id': '62349',\n",
       " 'status': 'completed',\n",
       " 'treats__0__cell_line__name': None,\n",
       " 'treats__0__cell_type__name': 'Th1',\n",
       " 'treats__0__cell_pop__name': 'CD4+',\n",
       " 'treats__0__disease_state__name': None,\n",
       " 'treats__0__factor__name': 'H3K27ac',\n",
       " 'treats__0__is_correcting': False,\n",
       " 'treats__0__link': 'http://www.ncbi.nlm.nih.gov/geo/query/acc.cgi?acc=GSM2048305',\n",
       " 'treats__0__name': 'TH1_K27AC_REP2',\n",
       " 'treats__0__paper__journal__name': 'Cell',\n",
       " 'treats__0__paper__lab': 'Oltz EM',\n",
       " 'treats__0__paper__pmid': 27156452,\n",
       " 'treats__0__paper__reference': 'Koues OI, et al. Distinct Gene Regulatory Pathways for Human Innate versus Adaptive Lymphoid Cells. Cell 2016',\n",
       " 'treats__0__species__name': 'Homo sapiens',\n",
       " 'treats__0__strain__name': None,\n",
       " 'treats__0__tissue_type__name': 'Tonsil',\n",
       " 'treats__0__unique_id': 'GSM2048305',\n",
       " 'qc__judge__map': True,\n",
       " 'qc__judge__peaks': False,\n",
       " 'qc__judge__fastqc': True,\n",
       " 'qc__judge__frip': False,\n",
       " 'qc__judge__pbc': True,\n",
       " 'qc__judge__motif': False,\n",
       " 'qc__judge__dhs': True,\n",
       " 'qc__table__treat_number': 1,\n",
       " 'qc__table__control_number': 0,\n",
       " 'qc__table__map__0': 91.5,\n",
       " 'qc__table__fastqc__0': 37,\n",
       " 'qc__table__frip__0': 0.1,\n",
       " 'qc__table__map_number__0': 15195930,\n",
       " 'qc__table__pbc__0': 93.2,\n",
       " 'qc__table__motif': False,\n",
       " 'qc__table__dhs': 76.7,\n",
       " 'qc__table__raw_number__0': 16614502,\n",
       " 'qc__table__meta_orig__intron': 0.38271604938271603,\n",
       " 'qc__table__meta_orig__inter': 0.5432098765432098,\n",
       " 'qc__table__meta_orig__exon': 0.012345679012345678,\n",
       " 'qc__table__meta_orig__promoter': 0.06172839506172839}"
      ]
     },
     "execution_count": 16,
     "metadata": {},
     "output_type": "execute_result"
    }
   ],
   "source": [
    "json.loads(f[\"resolutions\"][\"16384000\"].attrs[\"row_infos\"][0])"
   ]
  },
  {
   "cell_type": "code",
   "execution_count": null,
   "metadata": {},
   "outputs": [],
   "source": []
  }
 ],
 "metadata": {
  "kernelspec": {
   "display_name": "Python [conda env:cistrome-explorer-notebooks] *",
   "language": "python",
   "name": "conda-env-cistrome-explorer-notebooks-py"
  },
  "language_info": {
   "codemirror_mode": {
    "name": "ipython",
    "version": 3
   },
   "file_extension": ".py",
   "mimetype": "text/x-python",
   "name": "python",
   "nbconvert_exporter": "python",
   "pygments_lexer": "ipython3",
   "version": "3.7.6"
  }
 },
 "nbformat": 4,
 "nbformat_minor": 4
}
