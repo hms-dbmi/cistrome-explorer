{
 "cells": [
  {
   "cell_type": "code",
   "execution_count": 1,
   "id": "f204e4c3-2dbc-421f-9dc7-0f0ffdbf00dc",
   "metadata": {},
   "outputs": [],
   "source": [
    "import numpy as np\n",
    "import pandas as pd\n",
    "import scanpy as sc\n",
    "import mira"
   ]
  },
  {
   "cell_type": "code",
   "execution_count": 2,
   "id": "c4a495e8-8fd2-470d-8773-6ae68e007332",
   "metadata": {},
   "outputs": [],
   "source": [
    "# https://github.com/cistrome/MIRA\n",
    "data = sc.read_h5ad('mira-datasets/e18_10X_brain_dataset/e18_mouse_brain_10x_dataset.ad')"
   ]
  },
  {
   "cell_type": "code",
   "execution_count": 3,
   "id": "f73f0aba-9913-44c1-977a-c22bad89f9b0",
   "metadata": {},
   "outputs": [],
   "source": [
    "rna_data = data[:, data.var.feature_types == 'Gene Expression']\n",
    "atac_data = data[:, data.var.feature_types == 'Peaks']"
   ]
  },
  {
   "cell_type": "code",
   "execution_count": 4,
   "id": "0e516259-9fa0-485f-ae6f-fa01abe566f7",
   "metadata": {},
   "outputs": [
    {
     "name": "stderr",
     "output_type": "stream",
     "text": [
      "/Users/sehilyi/opt/miniconda3/lib/python3.9/site-packages/scanpy/preprocessing/_simple.py:138: ImplicitModificationWarning: Trying to modify attribute `.obs` of view, initializing view as actual.\n",
      "  adata.obs['n_counts'] = number\n",
      "/Users/sehilyi/opt/miniconda3/lib/python3.9/site-packages/scanpy/preprocessing/_simple.py:251: ImplicitModificationWarning: Trying to modify attribute `.var` of view, initializing view as actual.\n",
      "  adata.var['n_cells'] = number\n",
      "/var/folders/rs/7nt0b63d5pn3m6rd7m8zt_6r0000gn/T/ipykernel_29932/53417937.py:25: ImplicitModificationWarning: Trying to modify attribute `.var` of view, initializing view as actual.\n",
      "  rna_data.var['exog_feature'] = rna_data.var.highly_variable # set column \"exog_features\" to all genes that met dispersion threshold\n"
     ]
    }
   ],
   "source": [
    "# Basic preprocessing steps\n",
    "rna_data.var.index = rna_data.var.index.str.upper()\n",
    "rna_data.var_names_make_unique()\n",
    "rna_data = rna_data[:, ~rna_data.var.index.str.startswith('GM')]\n",
    "\n",
    "sc.pp.filter_cells(rna_data, min_counts = 400)\n",
    "sc.pp.filter_genes(rna_data, min_cells=15)\n",
    "\n",
    "rna_data.var['mt'] = rna_data.var_names.str.startswith('MT-')\n",
    "sc.pp.calculate_qc_metrics(rna_data, qc_vars=['mt'], percent_top=None,\n",
    "                           log1p=False, inplace=True)\n",
    "\n",
    "rna_data = rna_data[rna_data.obs.pct_counts_mt < 15, :]\n",
    "rna_data = rna_data[rna_data.obs.n_genes_by_counts < 8000, :]\n",
    "sc.pp.filter_genes(rna_data, min_cells=15)\n",
    "\n",
    "rna_data.raw = rna_data # save raw counts\n",
    "sc.pp.normalize_total(rna_data, target_sum=1e4)\n",
    "sc.pp.log1p(rna_data)\n",
    "\n",
    "sc.pp.highly_variable_genes(rna_data, min_disp = -0.1)\n",
    "rna_data.layers['norm'] = rna_data.X # save normalized count data\n",
    "rna_data.X = rna_data.raw.X # and reload raw counts\n",
    "rna_data = rna_data[:, rna_data.var.highly_variable] \n",
    "rna_data.var['exog_feature'] = rna_data.var.highly_variable # set column \"exog_features\" to all genes that met dispersion threshold\n",
    "rna_data.var.highly_variable = (rna_data.var.dispersions_norm > 0.8) & rna_data.var.exog_feature # set column \"highly_variable\" to genes that met first criteria and dispersion > 0.8\n",
    "\n",
    "overlapping_barcodes = np.intersect1d(rna_data.obs_names, atac_data.obs_names) # make sure barcodes are matched between modes\n",
    "atac_data = atac_data[[i for i in overlapping_barcodes],:]"
   ]
  },
  {
   "cell_type": "code",
   "execution_count": 5,
   "id": "a4b30c7c-fb0f-4f71-a63b-321a39525a17",
   "metadata": {},
   "outputs": [
    {
     "name": "stderr",
     "output_type": "stream",
     "text": [
      "INFO:mira.topic_model.base:Moving model to CPU for inference.\n",
      "INFO:mira.topic_model.base:Moving model to device: cpu\n",
      "INFO:mira.topic_model.base:Moving model to CPU for inference.\n",
      "INFO:mira.topic_model.base:Moving model to device: cpu\n"
     ]
    }
   ],
   "source": [
    "rna_model = mira.topic_model.ExpressionTopicModel.load('mira-datasets/e18_10X_brain_dataset/e18_mouse_brain_10x_rna_model.pth')\n",
    "atac_model = mira.topic_model.AccessibilityTopicModel.load('mira-datasets/e18_10X_brain_dataset/e18_mouse_brain_10x_atac_model.pth')"
   ]
  },
  {
   "cell_type": "code",
   "execution_count": 6,
   "id": "3c8d493b-1794-47e4-b9ad-a36593eeedf5",
   "metadata": {},
   "outputs": [
    {
     "data": {
      "application/vnd.jupyter.widget-view+json": {
       "model_id": "984fef4b845146cba7c9e29753f6ef99",
       "version_major": 2,
       "version_minor": 0
      },
      "text/plain": [
       "HBox(children=(HTML(value='Predicting latent vars'), FloatProgress(value=0.0, max=10.0), HTML(value='')))"
      ]
     },
     "metadata": {},
     "output_type": "display_data"
    },
    {
     "name": "stderr",
     "output_type": "stream",
     "text": [
      "INFO:mira.adata_interface.core:Added key to obsm: X_topic_compositions\n",
      "INFO:mira.adata_interface.topic_model:Added cols: topic_0, topic_1, topic_2, topic_3, topic_4, topic_5, topic_6, topic_7, topic_8, topic_9, topic_10, topic_11, topic_12, topic_13, topic_14, topic_15, topic_16, topic_17, topic_18, topic_19, topic_20, topic_21\n",
      "INFO:mira.adata_interface.core:Added key to varm: topic_feature_compositions\n",
      "INFO:mira.adata_interface.core:Added key to varm: topic_feature_activations\n",
      "INFO:mira.adata_interface.topic_model:Added key to uns: topic_dendogram\n"
     ]
    },
    {
     "name": "stdout",
     "output_type": "stream",
     "text": [
      "\n"
     ]
    },
    {
     "name": "stderr",
     "output_type": "stream",
     "text": [
      "WARNING:mira.topic_model.base:Dataset loader allocated no extra workers. This will slow down training by ~50%.\n"
     ]
    },
    {
     "data": {
      "application/vnd.jupyter.widget-view+json": {
       "model_id": "d76e4ca783004809a960fdafb0c01c60",
       "version_major": 2,
       "version_minor": 0
      },
      "text/plain": [
       "HBox(children=(HTML(value='Predicting latent vars'), FloatProgress(value=0.0, max=37.0), HTML(value='')))"
      ]
     },
     "metadata": {},
     "output_type": "display_data"
    },
    {
     "name": "stderr",
     "output_type": "stream",
     "text": [
      "INFO:mira.adata_interface.core:Added key to obsm: X_topic_compositions\n"
     ]
    },
    {
     "name": "stdout",
     "output_type": "stream",
     "text": [
      "\n"
     ]
    },
    {
     "name": "stderr",
     "output_type": "stream",
     "text": [
      "INFO:mira.adata_interface.topic_model:Added cols: topic_0, topic_1, topic_2, topic_3, topic_4, topic_5, topic_6, topic_7, topic_8, topic_9, topic_10, topic_11, topic_12\n",
      "INFO:mira.adata_interface.core:Added key to varm: topic_feature_compositions\n",
      "INFO:mira.adata_interface.core:Added key to varm: topic_feature_activations\n",
      "INFO:mira.adata_interface.topic_model:Added key to uns: topic_dendogram\n"
     ]
    }
   ],
   "source": [
    "rna_model.predict(rna_data)\n",
    "atac_model.predict(atac_data, batch_size=128)"
   ]
  },
  {
   "cell_type": "code",
   "execution_count": 7,
   "id": "e2779017-b9b3-4964-b4a3-eb25ad4e787b",
   "metadata": {},
   "outputs": [
    {
     "name": "stderr",
     "output_type": "stream",
     "text": [
      "INFO:mira.adata_interface.topic_model:Fetching key X_topic_compositions from obsm\n",
      "INFO:mira.adata_interface.core:Added key to obsm: X_umap_features\n",
      "INFO:mira.adata_interface.topic_model:Fetching key X_topic_compositions from obsm\n",
      "INFO:mira.adata_interface.core:Added key to obsm: X_umap_features\n",
      "INFO:mira.adata_interface.utils:4706 out of 4706 cells shared between datasets (100%).\n",
      "INFO:mira.adata_interface.utils:Key added to obsm: X_joint_umap_features\n",
      "INFO:mira.adata_interface.topic_model:Fetching key X_topic_compositions from obsm\n"
     ]
    },
    {
     "data": {
      "application/vnd.jupyter.widget-view+json": {
       "model_id": "156cc0531a9f4e4b968b7cd0ae20d2ce",
       "version_major": 2,
       "version_minor": 0
      },
      "text/plain": [
       "HBox(children=(HTML(value='Imputing features'), FloatProgress(value=0.0, max=10.0), HTML(value='')))"
      ]
     },
     "metadata": {},
     "output_type": "display_data"
    },
    {
     "name": "stderr",
     "output_type": "stream",
     "text": [
      "INFO:mira.adata_interface.core:Added layer: imputed\n"
     ]
    },
    {
     "name": "stdout",
     "output_type": "stream",
     "text": [
      "\n"
     ]
    }
   ],
   "source": [
    "atac_model.get_umap_features(atac_data, box_cox = 0.5)\n",
    "rna_model.get_umap_features(rna_data, box_cox = 0.5)\n",
    "rna_data, atac_data = mira.utils.make_joint_representation(rna_data, atac_data)\n",
    "rna_model.impute(rna_data)"
   ]
  },
  {
   "cell_type": "code",
   "execution_count": 8,
   "id": "6c4cf341-aeaa-4a96-99a9-a55a820bc251",
   "metadata": {},
   "outputs": [],
   "source": [
    "main_barcodes = pd.read_csv(\"mira-datasets/e18_10X_brain_dataset/e18_mouse_brain_10x_main_barcodes.csv\", index_col=0, header=0, names=[\"barcodes\"])"
   ]
  },
  {
   "cell_type": "code",
   "execution_count": 9,
   "id": "94819679-5058-41e8-b0b5-4fda43a31dec",
   "metadata": {},
   "outputs": [],
   "source": [
    "rna_main = rna_data[list(main_barcodes[\"barcodes\"])]\n",
    "atac_main = atac_data[list(main_barcodes[\"barcodes\"])]\n",
    "\n",
    "exp_topic_ordered = [f'topic_{i}' for i in     # included topics, custom order\n",
    "                     [1, 3, 19, 20, 10, 13, 9, 0, 15, 8, 16, 18, 7, 5, 2, 21, 4, 6, 14, 12]]\n",
    "acc_topic_ordered = [f'topic_{i}' for i in     # included topics, custom order\n",
    "                     [11, 5, 6, 2, 8, 7, 0, 9, 10, 1, 12, 4, 3]]"
   ]
  },
  {
   "cell_type": "code",
   "execution_count": 10,
   "id": "92dc76bc-ff53-46ec-a087-1834737f5e00",
   "metadata": {},
   "outputs": [],
   "source": [
    "df = data[:, data.var.feature_types == 'Peaks'].to_df()"
   ]
  },
  {
   "cell_type": "code",
   "execution_count": 11,
   "id": "8a3192af-21a0-4ea8-84c9-4ad769518502",
   "metadata": {},
   "outputs": [],
   "source": [
    "# original = df.head(100)\n",
    "# new = atac_main.obs.head(100)\n",
    "\n",
    "# to_save = original.join(new)\n",
    "# to_save = to_save.filter(regex='topic')\n",
    "# to_save *= 1000\n",
    "# to_save.reset_index().to_json('output/obs.json', orient='records')\n",
    "\n",
    "# to_save = atac_main.obs.head(500)\n",
    "# to_save *= 1000\n",
    "# to_save.reset_index().to_json('output/obs.json', orient='records')\n",
    "\n",
    "# atac_main.varm['topic_feature_compositions']\n",
    "# atac_main.obsm#['X_joint_umap_features']\n"
   ]
  },
  {
   "cell_type": "code",
   "execution_count": null,
   "id": "c36fabfc-0393-4894-bfeb-864e80a80af2",
   "metadata": {},
   "outputs": [
    {
     "name": "stderr",
     "output_type": "stream",
     "text": [
      "OMP: Info #276: omp_set_nested routine deprecated, please use omp_set_max_active_levels instead.\n"
     ]
    }
   ],
   "source": [
    "sc.pp.neighbors(rna_main, use_rep='X_joint_umap_features') #, metric='manhattan')"
   ]
  },
  {
   "cell_type": "code",
   "execution_count": null,
   "id": "46d3372f-acf1-44a8-82f8-49230c48a551",
   "metadata": {},
   "outputs": [],
   "source": [
    "# sc.tl.umap(rna_main, min_dist = 0.3, negative_sample_rate=5)"
   ]
  },
  {
   "cell_type": "code",
   "execution_count": null,
   "id": "7448b16d-177f-4ade-95ec-ca3dd1182671",
   "metadata": {},
   "outputs": [],
   "source": [
    "# atac_main.obsm['X_umap'] = rna_main.obsm['X_umap']"
   ]
  },
  {
   "cell_type": "code",
   "execution_count": null,
   "id": "d6008244-87fa-492b-8194-cc8618bda6d9",
   "metadata": {},
   "outputs": [],
   "source": []
  }
 ],
 "metadata": {
  "kernelspec": {
   "display_name": "Python 3 (ipykernel)",
   "language": "python",
   "name": "python3"
  },
  "language_info": {
   "codemirror_mode": {
    "name": "ipython",
    "version": 3
   },
   "file_extension": ".py",
   "mimetype": "text/x-python",
   "name": "python",
   "nbconvert_exporter": "python",
   "pygments_lexer": "ipython3",
   "version": "3.9.1"
  },
  "vscode": {
   "interpreter": {
    "hash": "a6e62d3c6af34016b116bf38802ac40a3643566c126f7ced33f8876779ff7e85"
   }
  }
 },
 "nbformat": 4,
 "nbformat_minor": 5
}
