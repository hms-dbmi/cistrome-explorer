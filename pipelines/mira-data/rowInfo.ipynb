{
 "cells": [
  {
   "cell_type": "code",
   "execution_count": null,
   "id": "f204e4c3-2dbc-421f-9dc7-0f0ffdbf00dc",
   "metadata": {},
   "outputs": [],
   "source": [
    "import numpy as np\n",
    "import pandas as pd\n",
    "import scanpy as sc\n",
    "import mira"
   ]
  },
  {
   "cell_type": "code",
   "execution_count": null,
   "id": "c4a495e8-8fd2-470d-8773-6ae68e007332",
   "metadata": {},
   "outputs": [],
   "source": [
    "# https://github.com/cistrome/MIRA\n",
    "data = sc.read_h5ad('mira-datasets/e18_10X_brain_dataset/e18_mouse_brain_10x_dataset.ad')"
   ]
  },
  {
   "cell_type": "code",
   "execution_count": null,
   "id": "f73f0aba-9913-44c1-977a-c22bad89f9b0",
   "metadata": {},
   "outputs": [],
   "source": [
    "rna_data = data[:, data.var.feature_types == 'Gene Expression']\n",
    "atac_data = data[:, data.var.feature_types == 'Peaks']"
   ]
  },
  {
   "cell_type": "code",
   "execution_count": null,
   "id": "0e516259-9fa0-485f-ae6f-fa01abe566f7",
   "metadata": {},
   "outputs": [],
   "source": [
    "# Basic preprocessing steps\n",
    "rna_data.var.index = rna_data.var.index.str.upper()\n",
    "rna_data.var_names_make_unique()\n",
    "rna_data = rna_data[:, ~rna_data.var.index.str.startswith('GM')]\n",
    "\n",
    "sc.pp.filter_cells(rna_data, min_counts = 400)\n",
    "sc.pp.filter_genes(rna_data, min_cells=15)\n",
    "\n",
    "rna_data.var['mt'] = rna_data.var_names.str.startswith('MT-')\n",
    "sc.pp.calculate_qc_metrics(rna_data, qc_vars=['mt'], percent_top=None,\n",
    "                           log1p=False, inplace=True)\n",
    "\n",
    "rna_data = rna_data[rna_data.obs.pct_counts_mt < 15, :]\n",
    "rna_data = rna_data[rna_data.obs.n_genes_by_counts < 8000, :]\n",
    "sc.pp.filter_genes(rna_data, min_cells=15)\n",
    "\n",
    "rna_data.raw = rna_data # save raw counts\n",
    "sc.pp.normalize_total(rna_data, target_sum=1e4)\n",
    "sc.pp.log1p(rna_data)\n",
    "\n",
    "sc.pp.highly_variable_genes(rna_data, min_disp = -0.1)\n",
    "rna_data.layers['norm'] = rna_data.X # save normalized count data\n",
    "rna_data.X = rna_data.raw.X # and reload raw counts\n",
    "rna_data = rna_data[:, rna_data.var.highly_variable] \n",
    "rna_data.var['exog_feature'] = rna_data.var.highly_variable # set column \"exog_features\" to all genes that met dispersion threshold\n",
    "rna_data.var.highly_variable = (rna_data.var.dispersions_norm > 0.8) & rna_data.var.exog_feature # set column \"highly_variable\" to genes that met first criteria and dispersion > 0.8\n",
    "\n",
    "overlapping_barcodes = np.intersect1d(rna_data.obs_names, atac_data.obs_names) # make sure barcodes are matched between modes\n",
    "atac_data = atac_data[[i for i in overlapping_barcodes],:]"
   ]
  },
  {
   "cell_type": "code",
   "execution_count": null,
   "id": "a4b30c7c-fb0f-4f71-a63b-321a39525a17",
   "metadata": {},
   "outputs": [],
   "source": [
    "rna_model = mira.topic_model.ExpressionTopicModel.load('mira-datasets/e18_10X_brain_dataset/e18_mouse_brain_10x_rna_model.pth')\n",
    "atac_model = mira.topic_model.AccessibilityTopicModel.load('mira-datasets/e18_10X_brain_dataset/e18_mouse_brain_10x_atac_model.pth')"
   ]
  },
  {
   "cell_type": "code",
   "execution_count": null,
   "id": "3c8d493b-1794-47e4-b9ad-a36593eeedf5",
   "metadata": {},
   "outputs": [],
   "source": [
    "rna_model.predict(rna_data)\n",
    "atac_model.predict(atac_data, batch_size=128)"
   ]
  },
  {
   "cell_type": "code",
   "execution_count": null,
   "id": "e2779017-b9b3-4964-b4a3-eb25ad4e787b",
   "metadata": {},
   "outputs": [],
   "source": [
    "atac_model.get_umap_features(atac_data, box_cox = 0.5)\n",
    "rna_model.get_umap_features(rna_data, box_cox = 0.5)\n",
    "rna_data, atac_data = mira.utils.make_joint_representation(rna_data, atac_data)\n",
    "rna_model.impute(rna_data)"
   ]
  },
  {
   "cell_type": "code",
   "execution_count": null,
   "id": "6c4cf341-aeaa-4a96-99a9-a55a820bc251",
   "metadata": {},
   "outputs": [],
   "source": [
    "main_barcodes = pd.read_csv(\"mira-datasets/e18_10X_brain_dataset/e18_mouse_brain_10x_main_barcodes.csv\", index_col=0, header=0, names=[\"barcodes\"])"
   ]
  },
  {
   "cell_type": "code",
   "execution_count": null,
   "id": "94819679-5058-41e8-b0b5-4fda43a31dec",
   "metadata": {},
   "outputs": [],
   "source": [
    "rna_main = rna_data[list(main_barcodes[\"barcodes\"])]\n",
    "atac_main = atac_data[list(main_barcodes[\"barcodes\"])]\n",
    "\n",
    "exp_topic_ordered = [f'topic_{i}' for i in     # included topics, custom order\n",
    "                     [1, 3, 19, 20, 10, 13, 9, 0, 15, 8, 16, 18, 7, 5, 2, 21, 4, 6, 14, 12]]\n",
    "acc_topic_ordered = [f'topic_{i}' for i in     # included topics, custom order\n",
    "                     [11, 5, 6, 2, 8, 7, 0, 9, 10, 1, 12, 4, 3]]"
   ]
  },
  {
   "cell_type": "code",
   "execution_count": null,
   "id": "92dc76bc-ff53-46ec-a087-1834737f5e00",
   "metadata": {},
   "outputs": [],
   "source": [
    "df = data[:, data.var.feature_types == 'Peaks'].to_df()"
   ]
  },
  {
   "cell_type": "code",
   "execution_count": null,
   "id": "8a3192af-21a0-4ea8-84c9-4ad769518502",
   "metadata": {},
   "outputs": [],
   "source": [
    "# original = df.head(100)\n",
    "# new = atac_main.obs.head(100)\n",
    "\n",
    "# to_save = original.join(new)\n",
    "# to_save = to_save.filter(regex='topic')\n",
    "# to_save *= 1000\n",
    "# to_save.reset_index().to_json('output/obs.json', orient='records')\n",
    "\n",
    "to_save = atac_main.obs.head(500)\n",
    "to_save *= 1000\n",
    "to_save.reset_index().to_json('output/obs.json', orient='records')\n",
    "\n",
    "# atac_main.varm['topic_feature_compositions']\n",
    "# atac_main.obsm#['X_joint_umap_features']\n"
   ]
  },
  {
   "cell_type": "code",
   "execution_count": null,
   "id": "c36fabfc-0393-4894-bfeb-864e80a80af2",
   "metadata": {},
   "outputs": [],
   "source": [
    "# sc.pp.neighbors(rna_main, use_rep='X_joint_umap_features') #, metric='manhattan')"
   ]
  },
  {
   "cell_type": "code",
   "execution_count": null,
   "id": "46d3372f-acf1-44a8-82f8-49230c48a551",
   "metadata": {},
   "outputs": [],
   "source": [
    "# sc.tl.umap(rna_main, min_dist = 0.3, negative_sample_rate=5)"
   ]
  },
  {
   "cell_type": "code",
   "execution_count": null,
   "id": "7448b16d-177f-4ade-95ec-ca3dd1182671",
   "metadata": {},
   "outputs": [],
   "source": [
    "# atac_main.obsm['X_umap'] = rna_main.obsm['X_umap']"
   ]
  },
  {
   "cell_type": "code",
   "execution_count": null,
   "id": "d6008244-87fa-492b-8194-cc8618bda6d9",
   "metadata": {},
   "outputs": [],
   "source": []
  }
 ],
 "metadata": {
  "kernelspec": {
   "display_name": "mira",
   "language": "python",
   "name": "mira"
  },
  "language_info": {
   "codemirror_mode": {
    "name": "ipython",
    "version": 3
   },
   "file_extension": ".py",
   "mimetype": "text/x-python",
   "name": "python",
   "nbconvert_exporter": "python",
   "pygments_lexer": "ipython3",
   "version": "3.9.13"
  }
 },
 "nbformat": 4,
 "nbformat_minor": 5
}
